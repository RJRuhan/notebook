{
  "nbformat": 4,
  "nbformat_minor": 0,
  "metadata": {
    "colab": {
      "provenance": [],
      "mount_file_id": "1AAzn_RQWlWzyUkjBccHdStA9a6CAh4eb",
      "authorship_tag": "ABX9TyPwUvZcUP+M05zdpHT7smiV",
      "include_colab_link": true
    },
    "kernelspec": {
      "name": "python3",
      "display_name": "Python 3"
    },
    "language_info": {
      "name": "python"
    }
  },
  "cells": [
    {
      "cell_type": "markdown",
      "metadata": {
        "id": "view-in-github",
        "colab_type": "text"
      },
      "source": [
        "<a href=\"https://colab.research.google.com/github/RJRuhan/notebook/blob/main/model2.ipynb\" target=\"_parent\"><img src=\"https://colab.research.google.com/assets/colab-badge.svg\" alt=\"Open In Colab\"/></a>"
      ]
    },
    {
      "cell_type": "code",
      "source": [
        "%cd /content/drive/MyDrive/Thesis/Datasets/colab Notebook\n",
        "%ls"
      ],
      "metadata": {
        "colab": {
          "base_uri": "https://localhost:8080/",
          "height": 0
        },
        "id": "WfjFm9i0czXq",
        "outputId": "6fc62650-dc16-4c9c-9a26-b12b46a40fa8"
      },
      "execution_count": 1,
      "outputs": [
        {
          "output_type": "stream",
          "name": "stdout",
          "text": [
            "/content/drive/MyDrive/Thesis/Datasets/colab Notebook\n",
            "best_model.01-0.62.h5  best_model.03-0.60.h5  best_model.06-0.53.h5  helpers.py\n",
            "best_model.01-0.68.h5  best_model.03-0.62.h5  exp_cnn_filters1.png   \u001b[0m\u001b[01;34mmodified_dataset\u001b[0m/\n",
            "best_model.01-0.86.h5  best_model.03-0.69.h5  exp_cnn_filters.png    plot.py\n",
            "best_model.02-0.67.h5  best_model.05-0.56.h5  exp_cnn_kernel1.png    \u001b[01;34m__pycache__\u001b[0m/\n",
            "best_model.02-0.69.h5  best_model.05-0.61.h5  exp_cnn_kernel.png\n"
          ]
        }
      ]
    },
    {
      "cell_type": "code",
      "source": [
        "from __future__ import print_function\n",
        "from matplotlib import pyplot as plt\n",
        "import numpy as np\n",
        "import pandas as pd\n",
        "import seaborn as sns\n",
        "from scipy import stats\n",
        "\n",
        "from sklearn import metrics\n",
        "from sklearn.metrics import classification_report\n",
        "from sklearn import preprocessing\n",
        "\n",
        "import keras\n",
        "from keras.models import Sequential\n",
        "from keras.layers import Dense, Dropout, Flatten, Reshape, GlobalAveragePooling1D\n",
        "from keras.layers import Conv2D, MaxPooling2D, Conv1D, MaxPooling1D\n",
        "from matplotlib import pyplot\n",
        "\n",
        "import helpers\n",
        "np.random.seed(1)"
      ],
      "metadata": {
        "id": "z-6QJEWacafN"
      },
      "execution_count": 2,
      "outputs": []
    },
    {
      "cell_type": "code",
      "source": [
        "def load_dataset():\n",
        "\t# load all train\n",
        "\ttrainX, trainy, testX, testy = helpers.get_all_train_walk_vector_imuz_right()\n",
        "\tprint(trainX.shape, trainy.shape)\n",
        "\t# load all test\n",
        "\tprint(testX.shape, testy.shape)\n",
        "\t# one hot encode y\n",
        "\ttrainy = keras.utils.to_categorical(trainy)\n",
        "\ttesty = keras.utils.to_categorical(testy)\n",
        "\tprint(trainX.shape, trainy.shape, testX.shape, testy.shape)\n",
        "\treturn trainX, trainy, testX, testy\n",
        "\n",
        "trainX, trainy, testX, testy = load_dataset()\n"
      ],
      "metadata": {
        "colab": {
          "base_uri": "https://localhost:8080/",
          "height": 0
        },
        "id": "1KunQXN5c_Bo",
        "outputId": "f718a972-6c53-41a5-b4c0-66969b820dbc"
      },
      "execution_count": 3,
      "outputs": [
        {
          "output_type": "stream",
          "name": "stdout",
          "text": [
            "No IMUZ Right Walk Found\n",
            "No IMUZ Right Walk Found\n",
            "(315, 350, 6) (315,)\n",
            "(134, 350, 6) (134,)\n",
            "(315, 350, 6) (315, 2) (134, 350, 6) (134, 2)\n"
          ]
        }
      ]
    },
    {
      "cell_type": "code",
      "execution_count": 4,
      "metadata": {
        "id": "oSvIv9p_XeYx"
      },
      "outputs": [],
      "source": [
        "def createModel(n_timesteps,n_features,n_outputs, kernel_size, filters):\n",
        "  model_m = keras.models.Sequential()\n",
        "  model_m.add(Conv1D(filters, kernel_size, activation='relu', input_shape=(n_timesteps, n_features)))\n",
        "  model_m.add(Conv1D(filters, kernel_size, activation='relu'))\n",
        "  model_m.add(MaxPooling1D(3))\n",
        "  model_m.add(Conv1D(160, kernel_size, activation='relu'))\n",
        "  model_m.add(Conv1D(160, kernel_size, activation='relu'))\n",
        "  model_m.add(GlobalAveragePooling1D())\n",
        "  model_m.add(Dropout(0.5))\n",
        "  model_m.add(Dense(n_outputs, activation='softmax'))\n",
        "  # print(model_m.summary())\n",
        "  return model_m\n",
        "\n"
      ]
    },
    {
      "cell_type": "code",
      "source": [
        "# callbacks_list = [\n",
        "#     keras.callbacks.ModelCheckpoint(\n",
        "#         filepath='best_model.{epoch:02d}-{val_loss:.2f}.h5',\n",
        "#         monitor='val_loss', save_best_only=True),\n",
        "#     keras.callbacks.EarlyStopping(monitor='accuracy', patience=1)\n",
        "# ]\n",
        "# fit and evaluate a model\n",
        "def evaluate_model(trainX, trainy, testX, testy, kernel_size, filters):\n",
        "  verbose, epochs, batch_size = 0, 10, 32\n",
        "  n_timesteps, n_features, n_outputs = trainX.shape[1], trainX.shape[2], trainy.shape[1]\n",
        "  model_m = createModel(n_timesteps,n_features,n_outputs, kernel_size, filters)\n",
        "  model_m.compile(loss='categorical_crossentropy',\n",
        "                optimizer='adam', metrics=['accuracy'])\n",
        "  # fit network\n",
        "  history = model_m.fit(trainX,\n",
        "                      trainy,\n",
        "                      batch_size=batch_size,\n",
        "                      epochs=epochs,\n",
        "                      validation_split=0.2,\n",
        "                      verbose=verbose)\n",
        "  # evaluate model\n",
        "  _, accuracy = model_m.evaluate(testX, testy, batch_size=batch_size, verbose=0)\n",
        "  return accuracy"
      ],
      "metadata": {
        "id": "r4POiIsWcZj_"
      },
      "execution_count": 5,
      "outputs": []
    },
    {
      "cell_type": "code",
      "source": [
        "def summarize_results(scores):\n",
        "\tprint(scores)\n",
        "\tm, s = np.mean(scores), np.std(scores)\n",
        "\tprint('Accuracy: %.3f%% (+/-%.3f)' % (m, s))\n",
        "\n",
        "# run an experiment\n",
        "def run_experiment(repeats=10):\n",
        "\t\t# repeat experiment\n",
        "\tscores = list()\n",
        "\tfor r in range(repeats):\n",
        "\t\tscore = evaluate_model(trainX, trainy, testX, testy, 3, 64)\n",
        "\t\tscore = score * 100.0\n",
        "\t\tprint('>#%d: %.3f' % (r+1, score))\n",
        "\t\tscores.append(score)\n",
        "\t# summarize results\n",
        "\tsummarize_results(scores)\n",
        "\n",
        "run_experiment(10)"
      ],
      "metadata": {
        "colab": {
          "base_uri": "https://localhost:8080/",
          "height": 0
        },
        "id": "ITWVDvGht2UO",
        "outputId": "3e8d77dd-6728-46da-89a0-81721c6f7fea"
      },
      "execution_count": 6,
      "outputs": [
        {
          "output_type": "stream",
          "name": "stdout",
          "text": [
            ">#1: 58.955\n",
            ">#2: 58.955\n",
            ">#3: 61.194\n",
            ">#4: 59.701\n",
            ">#5: 64.925\n",
            ">#6: 60.448\n",
            ">#7: 52.239\n",
            ">#8: 59.701\n",
            ">#9: 61.940\n",
            ">#10: 52.985\n",
            "[58.955222368240356, 58.955222368240356, 61.194032430648804, 59.70149040222168, 64.92537260055542, 60.447758436203, 52.23880410194397, 59.70149040222168, 61.94030046463013, 52.98507213592529]\n",
            "Accuracy: 59.104% (+/-3.653)\n"
          ]
        }
      ]
    },
    {
      "cell_type": "code",
      "source": [
        "# summarize scores\n",
        "def summarize_results(scores, params):\n",
        "\tprint(scores, params)\n",
        "\t# summarize mean and standard deviation\n",
        "\tfor i in range(len(scores)):\n",
        "\t\tm, s = np.mean(scores[i]), np.std(scores[i])\n",
        "\t\tprint('Param=%d: %.3f%% (+/-%.3f)' % (params[i], m, s))\n",
        "\t# boxplot of scores\n",
        "\tpyplot.boxplot(scores, labels=params)\n",
        "\tpyplot.savefig('exp_cnn_filters.png')\n",
        "\n",
        "# run an experiment\n",
        "def run_experiment(params, repeats=10):\n",
        "\t# test each parameter\n",
        "\tall_scores = list()\n",
        "\tfor p in params:\n",
        "\t\t# repeat experiment\n",
        "\t\tscores = list()\n",
        "\t\tfor r in range(repeats):\n",
        "\t\t\tscore = evaluate_model(trainX, trainy, testX, testy, 7, p)\n",
        "\t\t\tscore = score * 100.0\n",
        "\t\t\tprint('>p=%d #%d: %.3f' % (p, r+1, score))\n",
        "\t\t\tscores.append(score)\n",
        "\t\tall_scores.append(scores)\n",
        "\t# summarize results\n",
        "\tsummarize_results(all_scores, params)\n",
        "\n",
        "# run the experiment\n",
        "n_params = [8, 16, 32, 64, 128, 256]\n",
        "run_experiment(n_params)"
      ],
      "metadata": {
        "colab": {
          "base_uri": "https://localhost:8080/",
          "height": 1614
        },
        "id": "2HcXhuMB5uWe",
        "outputId": "e3f626de-9564-4fe5-e665-90c64ec90e81"
      },
      "execution_count": 7,
      "outputs": [
        {
          "output_type": "stream",
          "name": "stdout",
          "text": [
            ">p=8 #1: 58.955\n",
            ">p=8 #2: 68.657\n",
            ">p=8 #3: 71.642\n",
            ">p=8 #4: 58.209\n",
            ">p=8 #5: 63.433\n",
            ">p=8 #6: 56.716\n",
            ">p=8 #7: 61.940\n",
            ">p=8 #8: 59.701\n",
            ">p=8 #9: 61.940\n",
            ">p=8 #10: 58.209\n",
            ">p=16 #1: 66.418\n",
            ">p=16 #2: 70.896\n",
            ">p=16 #3: 68.657\n",
            ">p=16 #4: 70.149\n",
            ">p=16 #5: 65.672\n",
            ">p=16 #6: 61.194\n",
            ">p=16 #7: 68.657\n",
            ">p=16 #8: 66.418\n",
            ">p=16 #9: 65.672\n",
            ">p=16 #10: 62.687\n",
            ">p=32 #1: 66.418\n",
            ">p=32 #2: 66.418\n",
            ">p=32 #3: 69.403\n",
            ">p=32 #4: 70.896\n",
            ">p=32 #5: 70.896\n",
            ">p=32 #6: 68.657\n",
            ">p=32 #7: 64.179\n",
            ">p=32 #8: 70.149\n",
            ">p=32 #9: 67.910\n",
            ">p=32 #10: 58.955\n",
            ">p=64 #1: 64.925\n",
            ">p=64 #2: 70.149\n",
            ">p=64 #3: 70.149\n",
            ">p=64 #4: 64.179\n",
            ">p=64 #5: 64.179\n",
            ">p=64 #6: 67.164\n",
            ">p=64 #7: 66.418\n",
            ">p=64 #8: 70.149\n",
            ">p=64 #9: 57.463\n",
            ">p=64 #10: 70.896\n",
            ">p=128 #1: 67.910\n",
            ">p=128 #2: 70.896\n",
            ">p=128 #3: 61.940\n",
            ">p=128 #4: 65.672\n",
            ">p=128 #5: 59.701\n",
            ">p=128 #6: 65.672\n",
            ">p=128 #7: 64.925\n",
            ">p=128 #8: 65.672\n",
            ">p=128 #9: 70.149\n",
            ">p=128 #10: 58.955\n",
            ">p=256 #1: 64.179\n",
            ">p=256 #2: 72.388\n",
            ">p=256 #3: 64.179\n",
            ">p=256 #4: 61.940\n",
            ">p=256 #5: 61.194\n",
            ">p=256 #6: 55.970\n",
            ">p=256 #7: 70.896\n",
            ">p=256 #8: 67.910\n",
            ">p=256 #9: 63.433\n",
            ">p=256 #10: 67.910\n",
            "[[58.955222368240356, 68.65671873092651, 71.6417908668518, 58.20895433425903, 63.43283653259277, 56.71641826629639, 61.94030046463013, 59.70149040222168, 61.94030046463013, 58.20895433425903], [66.41790866851807, 70.89552283287048, 68.65671873092651, 70.14925479888916, 65.67164063453674, 61.194032430648804, 68.65671873092651, 66.41790866851807, 65.67164063453674, 62.68656849861145], [66.41790866851807, 66.41790866851807, 69.40298676490784, 70.89552283287048, 70.89552283287048, 68.65671873092651, 64.1791045665741, 70.14925479888916, 67.91045069694519, 58.955222368240356], [64.92537260055542, 70.14925479888916, 70.14925479888916, 64.1791045665741, 64.1791045665741, 67.16417670249939, 66.41790866851807, 70.14925479888916, 57.46268630027771, 70.89552283287048], [67.91045069694519, 70.89552283287048, 61.94030046463013, 65.67164063453674, 59.70149040222168, 65.67164063453674, 64.92537260055542, 65.67164063453674, 70.14925479888916, 58.955222368240356], [64.1791045665741, 72.38805890083313, 64.1791045665741, 61.94030046463013, 61.194032430648804, 55.97015023231506, 70.89552283287048, 67.91045069694519, 63.43283653259277, 67.91045069694519]] [8, 16, 32, 64, 128, 256]\n",
            "Param=8: 61.940% (+/-4.588)\n",
            "Param=16: 66.642% (+/-2.930)\n",
            "Param=32: 67.388% (+/-3.485)\n",
            "Param=64: 66.567% (+/-3.932)\n",
            "Param=128: 65.149% (+/-3.806)\n",
            "Param=256: 65.000% (+/-4.642)\n"
          ]
        },
        {
          "output_type": "display_data",
          "data": {
            "text/plain": [
              "<Figure size 640x480 with 1 Axes>"
            ],
            "image/png": "[encoded data removed]"
          },
          "metadata": {}
        }
      ]
    },
    {
      "cell_type": "code",
      "source": [
        "def summarize_results(scores, params):\n",
        "\tprint(scores, params)\n",
        "\t# summarize mean and standard deviation\n",
        "\tfor i in range(len(scores)):\n",
        "\t\tm, s = np.mean(scores[i]), np.std(scores[i])\n",
        "\t\tprint('Param=%d: %.3f%% (+/-%.3f)' % (params[i], m, s))\n",
        "\t# boxplot of scores\n",
        "\tpyplot.boxplot(scores, labels=params)\n",
        "\tpyplot.savefig('exp_cnn_filters1.png')\n",
        "all_scores = [[67.16417670249939, 70.14925479888916, 60.447758436203, 68.65671873092651, 64.92537260055542, 58.20895433425903, 68.65671873092651, 70.14925479888916, 64.1791045665741, 63.43283653259277], [66.41790866851807, 67.16417670249939, 53.731346130371094, 70.14925479888916, 63.43283653259277, 59.70149040222168, 61.94030046463013, 64.1791045665741, 71.6417908668518, 70.14925479888916], [65.67164063453674, 67.91045069694519, 57.46268630027771, 64.92537260055542, 67.91045069694519, 67.91045069694519, 60.447758436203, 65.67164063453674, 70.89552283287048, 67.16417670249939], [61.94030046463013, 69.40298676490784, 66.41790866851807, 68.65671873092651, 65.67164063453674, 68.65671873092651, 66.41790866851807, 67.91045069694519, 66.41790866851807, 72.38805890083313], [58.955222368240356, 59.70149040222168, 65.67164063453674, 63.43283653259277, 57.46268630027771, 68.65671873092651, 66.41790866851807, 65.67164063453674, 62.68656849861145, 65.67164063453674], [58.20895433425903, 67.91045069694519, 67.16417670249939, 58.20895433425903, 52.23880410194397, 66.41790866851807, 60.447758436203, 64.1791045665741, 61.194032430648804, 64.1791045665741]]\n",
        "params = [8, 16, 32, 64, 128, 256]\n",
        "summarize_results(all_scores, params)\n"
      ],
      "metadata": {
        "colab": {
          "base_uri": "https://localhost:8080/",
          "height": 572
        },
        "id": "aMhp5aXPOsJJ",
        "outputId": "ecc20847-03e8-444b-e8c6-6d66e84d7f4d"
      },
      "execution_count": 8,
      "outputs": [
        {
          "output_type": "stream",
          "name": "stdout",
          "text": [
            "[[67.16417670249939, 70.14925479888916, 60.447758436203, 68.65671873092651, 64.92537260055542, 58.20895433425903, 68.65671873092651, 70.14925479888916, 64.1791045665741, 63.43283653259277], [66.41790866851807, 67.16417670249939, 53.731346130371094, 70.14925479888916, 63.43283653259277, 59.70149040222168, 61.94030046463013, 64.1791045665741, 71.6417908668518, 70.14925479888916], [65.67164063453674, 67.91045069694519, 57.46268630027771, 64.92537260055542, 67.91045069694519, 67.91045069694519, 60.447758436203, 65.67164063453674, 70.89552283287048, 67.16417670249939], [61.94030046463013, 69.40298676490784, 66.41790866851807, 68.65671873092651, 65.67164063453674, 68.65671873092651, 66.41790866851807, 67.91045069694519, 66.41790866851807, 72.38805890083313], [58.955222368240356, 59.70149040222168, 65.67164063453674, 63.43283653259277, 57.46268630027771, 68.65671873092651, 66.41790866851807, 65.67164063453674, 62.68656849861145, 65.67164063453674], [58.20895433425903, 67.91045069694519, 67.16417670249939, 58.20895433425903, 52.23880410194397, 66.41790866851807, 60.447758436203, 64.1791045665741, 61.194032430648804, 64.1791045665741]] [8, 16, 32, 64, 128, 256]\n",
            "Param=8: 65.597% (+/-3.884)\n",
            "Param=16: 64.851% (+/-5.207)\n",
            "Param=32: 65.597% (+/-3.738)\n",
            "Param=64: 67.388% (+/-2.608)\n",
            "Param=128: 63.433% (+/-3.484)\n",
            "Param=256: 62.015% (+/-4.666)\n"
          ]
        },
        {
          "output_type": "display_data",
          "data": {
            "text/plain": [
              "<Figure size 640x480 with 1 Axes>"
            ],
            "image/png": "[encoded data removed]"
          },
          "metadata": {}
        }
      ]
    },
    {
      "cell_type": "code",
      "source": [
        "def createModel(n_timesteps,n_features,n_outputs, kernel_size, filters):\n",
        "  model_m = keras.models.Sequential()\n",
        "  model_m.add(Conv1D(filters, kernel_size, activation='relu', input_shape=(n_timesteps, n_features)))\n",
        "  model_m.add(Conv1D(filters, kernel_size, activation='relu'))\n",
        "  model_m.add(MaxPooling1D(3))\n",
        "  model_m.add(Conv1D(160, kernel_size, activation='relu'))\n",
        "  # model_m.add(Conv1D(160, kernel_size, activation='relu'))\n",
        "  model_m.add(GlobalAveragePooling1D())\n",
        "  model_m.add(Dropout(0.5))\n",
        "  model_m.add(Dense(n_outputs, activation='softmax'))\n",
        "  # print(model_m.summary())\n",
        "  return model_m\n",
        "\n",
        "# summarize scores\n",
        "def summarize_results(scores, params):\n",
        "\tprint(scores, params)\n",
        "\t# summarize mean and standard deviation\n",
        "\tfor i in range(len(scores)):\n",
        "\t\tm, s = np.mean(scores[i]), np.std(scores[i])\n",
        "\t\tprint('Param=%d: %.3f%% (+/-%.3f)' % (params[i], m, s))\n",
        "\t# boxplot of scores\n",
        "\tpyplot.boxplot(scores, labels=params)\n",
        "\tpyplot.savefig('exp_cnn_kernel1.png')\n",
        "\n",
        "# run an experiment\n",
        "def run_experiment(params, repeats=10):\n",
        "\t# test each parameter\n",
        "\tall_scores = list()\n",
        "\tfor p in params:\n",
        "\t\t# repeat experiment\n",
        "\t\tscores = list()\n",
        "\t\tfor r in range(repeats):\n",
        "\t\t\tscore = evaluate_model(trainX, trainy, testX, testy, p, 64)\n",
        "\t\t\tscore = score * 100.0\n",
        "\t\t\tprint('>p=%d #%d: %.3f' % (p, r+1, score))\n",
        "\t\t\tscores.append(score)\n",
        "\t\tall_scores.append(scores)\n",
        "\t# summarize results\n",
        "\tsummarize_results(all_scores, params)\n",
        "\n",
        "# run the experiment\n",
        "n_params = [50]\n",
        "run_experiment(n_params)"
      ],
      "metadata": {
        "colab": {
          "base_uri": "https://localhost:8080/",
          "height": 658
        },
        "id": "ABFMH2wQPLk0",
        "outputId": "583dcb17-0db1-4496-e1f6-abec0d781547"
      },
      "execution_count": 9,
      "outputs": [
        {
          "output_type": "stream",
          "name": "stdout",
          "text": [
            ">p=50 #1: 72.388\n",
            ">p=50 #2: 75.373\n",
            ">p=50 #3: 71.642\n",
            ">p=50 #4: 74.627\n",
            ">p=50 #5: 73.881\n",
            ">p=50 #6: 73.134\n",
            ">p=50 #7: 75.373\n",
            ">p=50 #8: 74.627\n",
            ">p=50 #9: 74.627\n",
            ">p=50 #10: 73.134\n",
            "[[72.38805890083313, 75.3731369972229, 71.6417908668518, 74.6268630027771, 73.88059496879578, 73.13432693481445, 75.3731369972229, 74.6268630027771, 74.6268630027771, 73.13432693481445]] [50]\n",
            "Param=50: 73.881% (+/-1.203)\n"
          ]
        },
        {
          "output_type": "display_data",
          "data": {
            "text/plain": [
              "<Figure size 640x480 with 1 Axes>"
            ],
            "image/png": "[encoded data removed]"
          },
          "metadata": {}
        }
      ]
    },
    {
      "cell_type": "code",
      "source": [
        "\n",
        "# def feature_normalize(dataset):\n",
        "\n",
        "#     mu = np.mean(dataset, axis=0)\n",
        "#     sigma = np.std(dataset, axis=0)\n",
        "#     return (dataset - mu)/sigma\n",
        "\n",
        "# def show_confusion_matrix(validations, predictions):\n",
        "\n",
        "#     matrix = metrics.confusion_matrix(validations, predictions)\n",
        "#     plt.figure(figsize=(6, 4))\n",
        "#     sns.heatmap(matrix,\n",
        "#                 cmap=\"coolwarm\",\n",
        "#                 linecolor='white',\n",
        "#                 linewidths=1,\n",
        "#                 xticklabels=LABELS,\n",
        "#                 yticklabels=LABELS,\n",
        "#                 annot=True,\n",
        "#                 fmt=\"d\")\n",
        "#     plt.title(\"Confusion Matrix\")\n",
        "#     plt.ylabel(\"True Label\")\n",
        "#     plt.xlabel(\"Predicted Label\")\n",
        "#     plt.show()\n",
        "\n",
        "\n",
        "# def convert_to_float(x):\n",
        "\n",
        "#     try:\n",
        "#         return np.float(x)\n",
        "#     except:\n",
        "#         return np.nan\n",
        "\n",
        "\n",
        "# def plot_axis(ax, x, y, title):\n",
        "\n",
        "#     ax.plot(x, y)\n",
        "#     ax.set_title(title)\n",
        "#     ax.xaxis.set_visible(False)\n",
        "#     ax.set_ylim([min(y) - np.std(y), max(y) + np.std(y)])\n",
        "#     ax.set_xlim([min(x), max(x)])\n",
        "#     ax.grid(True)\n",
        "\n",
        "\n",
        "# def plot_activity(activity, data):\n",
        "\n",
        "#     fig, (ax0, ax1, ax2) = plt.subplots(nrows=3,\n",
        "#          figsize=(15, 10),\n",
        "#          sharex=True)\n",
        "#     plot_axis(ax0, data['timestamp'], data['x-axis'], 'x-axis')\n",
        "#     plot_axis(ax1, data['timestamp'], data['y-axis'], 'y-axis')\n",
        "#     plot_axis(ax2, data['timestamp'], data['z-axis'], 'z-axis')\n",
        "#     plt.subplots_adjust(hspace=0.2)\n",
        "#     fig.suptitle(activity)\n",
        "#     plt.subplots_adjust(top=0.90)\n",
        "#     plt.show()\n",
        "\n",
        "\n",
        "# def create_segments_and_labels(df, time_steps, step, label_name):\n",
        "\n",
        "#     \"\"\"\n",
        "#     This function receives a dataframe and returns the reshaped segments\n",
        "#     of x,y,z acceleration as well as the corresponding labels\n",
        "\n",
        "#     Args:\n",
        "#         df: Dataframe in the expected format\n",
        "#         time_steps: Integer value of the length of a segment that is created\n",
        "#     Returns:\n",
        "#         reshaped_segments\n",
        "#         labels:\n",
        "#     \"\"\"\n",
        "\n",
        "#     # x, y, z acceleration as features\n",
        "#     N_FEATURES = 3\n",
        "#     # Number of steps to advance in each iteration (for me, it should always\n",
        "#     # be equal to the time_steps in order to have no overlap between segments)\n",
        "#     # step = time_steps\n",
        "#     segments = []\n",
        "#     labels = []\n",
        "#     for i in range(0, len(df) - time_steps, step):\n",
        "#         xs = df['x-axis'].values[i: i + time_steps]\n",
        "#         ys = df['y-axis'].values[i: i + time_steps]\n",
        "#         zs = df['z-axis'].values[i: i + time_steps]\n",
        "#         # Retrieve the most often used label in this segment\n",
        "#         label = stats.mode(df[label_name][i: i + time_steps])[0][0]\n",
        "#         segments.append([xs, ys, zs])\n",
        "#         labels.append(label)\n",
        "\n",
        "#     # Bring the segments into a better shape\n",
        "#     reshaped_segments = np.asarray(segments, dtype= np.float32).reshape(-1, time_steps, N_FEATURES)\n",
        "#     labels = np.asarray(labels)\n",
        "\n",
        "#     return reshaped_segments, labels\n",
        "\n",
        "# # %%\n",
        "\n",
        "# # ------- THE PROGRAM TO LOAD DATA AND TRAIN THE MODEL -------\n",
        "\n",
        "# # Set some standard parameters upfront\n",
        "# pd.options.display.float_format = '{:.1f}'.format\n",
        "# sns.set() # Default seaborn look and feel\n",
        "# plt.style.use('ggplot')\n",
        "# print('keras version ', keras.__version__)\n",
        "\n",
        "# LABELS = [\"Downstairs\",\n",
        "#           \"Jogging\",\n",
        "#           \"Sitting\",\n",
        "#           \"Standing\",\n",
        "#           \"Upstairs\",\n",
        "#           \"Walking\"]\n",
        "# # The number of steps within one time segment\n",
        "# TIME_PERIODS = 80\n",
        "# # The steps to take from one segment to the next; if this value is equal to\n",
        "# # TIME_PERIODS, then there is no overlap between the segments\n",
        "# STEP_DISTANCE = 40\n",
        "\n",
        "# print(\"\\n--- Learning curve of model training ---\\n\")\n",
        "\n",
        "# # summarize history for accuracy and loss\n",
        "# plt.figure(figsize=(6, 4))\n",
        "# plt.plot(history.history['acc'], \"g--\", label=\"Accuracy of training data\")\n",
        "# plt.plot(history.history['val_acc'], \"g\", label=\"Accuracy of validation data\")\n",
        "# plt.plot(history.history['loss'], \"r--\", label=\"Loss of training data\")\n",
        "# plt.plot(history.history['val_loss'], \"r\", label=\"Loss of validation data\")\n",
        "# plt.title('Model Accuracy and Loss')\n",
        "# plt.ylabel('Accuracy and Loss')\n",
        "# plt.xlabel('Training Epoch')\n",
        "# plt.ylim(0)\n",
        "# plt.legend()\n",
        "# plt.show()\n",
        "\n",
        "# #%%\n",
        "\n",
        "# print(\"\\n--- Check against test data ---\\n\")\n",
        "\n",
        "# # Normalize features for training data set\n",
        "# df_test['x-axis'] = feature_normalize(df_test['x-axis'])\n",
        "# df_test['y-axis'] = feature_normalize(df_test['y-axis'])\n",
        "# df_test['z-axis'] = feature_normalize(df_test['z-axis'])\n",
        "\n",
        "# df_test = df_test.round({'x-axis': 6, 'y-axis': 6, 'z-axis': 6})\n",
        "\n",
        "# x_test, y_test = create_segments_and_labels(df_test,\n",
        "#                                             TIME_PERIODS,\n",
        "#                                             STEP_DISTANCE,\n",
        "#                                             LABEL)\n",
        "\n",
        "# # Set input_shape / reshape for Keras\n",
        "# x_test = x_test.reshape(x_test.shape[0], input_shape)\n",
        "\n",
        "# x_test = x_test.astype(\"float32\")\n",
        "# y_test = y_test.astype(\"float32\")\n",
        "\n",
        "# y_test = np_utils.to_categorical(y_test, num_classes)\n",
        "\n",
        "# score = model_m.evaluate(x_test, y_test, verbose=1)\n",
        "\n",
        "# print(\"\\nAccuracy on test data: %0.2f\" % score[1])\n",
        "# print(\"\\nLoss on test data: %0.2f\" % score[0])\n",
        "\n",
        "# # %%\n",
        "\n",
        "# print(\"\\n--- Confusion matrix for test data ---\\n\")\n",
        "\n",
        "# y_pred_test = model_m.predict(x_test)\n",
        "# # Take the class with the highest probability from the test predictions\n",
        "# max_y_pred_test = np.argmax(y_pred_test, axis=1)\n",
        "# max_y_test = np.argmax(y_test, axis=1)\n",
        "\n",
        "# show_confusion_matrix(max_y_test, max_y_pred_test)\n",
        "\n",
        "# # %%\n",
        "\n",
        "# print(\"\\n--- Classification report for test data ---\\n\")\n",
        "\n",
        "# print(classification_report(max_y_test, max_y_pred_test))"
      ],
      "metadata": {
        "id": "qEetmE8hcYg0"
      },
      "execution_count": 10,
      "outputs": []
    }
  ]
}