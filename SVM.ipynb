{
  "nbformat": 4,
  "nbformat_minor": 0,
  "metadata": {
    "colab": {
      "provenance": [],
      "mount_file_id": "1O1ixkVAuwaUG9Eh9sQhovtugFhnh3sb4",
      "authorship_tag": "ABX9TyMHnu/Shb3r/8Lz8mMGMzBY",
      "include_colab_link": true
    },
    "kernelspec": {
      "name": "python3",
      "display_name": "Python 3"
    },
    "language_info": {
      "name": "python"
    }
  },
  "cells": [
    {
      "cell_type": "markdown",
      "metadata": {
        "id": "view-in-github",
        "colab_type": "text"
      },
      "source": [
        "<a href=\"https://colab.research.google.com/github/RJRuhan/notebook/blob/main/SVM.ipynb\" target=\"_parent\"><img src=\"https://colab.research.google.com/assets/colab-badge.svg\" alt=\"Open In Colab\"/></a>"
      ]
    },
    {
      "cell_type": "code",
      "source": [
        "%cd /content/drive/MyDrive/Thesis/codes\n",
        "%ls"
      ],
      "metadata": {
        "colab": {
          "base_uri": "https://localhost:8080/"
        },
        "id": "K8HGpvIFM9cr",
        "outputId": "e04ae490-c6ad-40c3-ac6c-cd709dc7f89a"
      },
      "execution_count": 1,
      "outputs": [
        {
          "output_type": "stream",
          "name": "stdout",
          "text": [
            "/content/drive/MyDrive/Thesis/codes\n",
            "extract_feature.py  IO_helpers.py      plot.py        \u001b[0m\u001b[01;34m__pycache__\u001b[0m/  verisense_step_count.py\n",
            "features.csv        \u001b[01;34mmodified_dataset\u001b[0m/  preprocess.py  trainData.py\n"
          ]
        }
      ]
    },
    {
      "cell_type": "code",
      "source": [
        "import os\n",
        "import numpy as np\n",
        "import tensorflow as tf\n",
        "from sklearn.metrics import confusion_matrix, classification_report, f1_score\n",
        "from sklearn import preprocessing\n",
        "from sklearn import svm\n",
        "import matplotlib.pylab as plt\n",
        "from plot import *\n",
        "from extract_feature import *\n",
        "from trainData import *\n",
        "\n",
        "%matplotlib"
      ],
      "metadata": {
        "colab": {
          "base_uri": "https://localhost:8080/"
        },
        "id": "j4baswpmLbGH",
        "outputId": "d57b2200-dc8a-4ce6-baca-16e1e4154561"
      },
      "execution_count": 2,
      "outputs": [
        {
          "output_type": "stream",
          "name": "stdout",
          "text": [
            "Using matplotlib backend: <object object at 0x7b0735b27660>\n"
          ]
        }
      ]
    },
    {
      "cell_type": "code",
      "execution_count": 4,
      "metadata": {
        "id": "agL2ZQhpgQ-p"
      },
      "outputs": [],
      "source": [
        "def hyperparameters_opt_RBF(X_train, y_train, X_test, y_test,\n",
        "                            param_range_C, param_range_gamma):\n",
        "\n",
        "    accuracy_matrix = np.zeros((param_range_C.shape[0],param_range_gamma.shape[0]))\n",
        "    for i,C in enumerate(param_range_C):\n",
        "        for j,gamma in enumerate(param_range_gamma):\n",
        "            clf_r_l = svm.SVC(kernel='poly', C=C, gamma=gamma, degree=3)\n",
        "            clf_r_l.fit(X_train, y_train)\n",
        "            accuracy_matrix[i,j] = f1_score(y_test ,clf_r_l.predict(X_test), average='macro')\n",
        "    C_ind, gamma_ind = np.unravel_index(np.argmax(accuracy_matrix), accuracy_matrix.shape)\n",
        "    # print(accuracy_matrix)\n",
        "\n",
        "    return param_range_C[C_ind], param_range_gamma[gamma_ind]"
      ]
    },
    {
      "cell_type": "code",
      "source": [
        "X_train_sets, Y_train_sets, X_test_sets, Y_test_sets, X_validation_set, Y_validation_set, X_train, Y_train = load_dataset_feature_gender('features.csv', n_folds=7)\n",
        "print(len(X_train_sets))\n",
        "print(X_train_sets[0].shape)\n",
        "print(Y_train_sets[0].shape)\n",
        "print(X_test_sets[0].shape)\n",
        "print(Y_test_sets[0].shape)\n",
        "print(X_validation_set.shape)\n",
        "print(Y_validation_set.shape)\n",
        "print(X_train.shape)\n",
        "print(Y_train.shape)"
      ],
      "metadata": {
        "colab": {
          "base_uri": "https://localhost:8080/"
        },
        "id": "9Uq_r9ZBL9Rx",
        "outputId": "a66666aa-d0a7-4944-ef3e-280c8d06ea96"
      },
      "execution_count": 5,
      "outputs": [
        {
          "output_type": "stream",
          "name": "stdout",
          "text": [
            "[0 0 0 0 0 0 0 0 0 0 0 0 0 0 0 0 0 0 0 0 0 0 0 0 0 0 0 0 0 0 0 0 0 0 0 0 0\n",
            " 0 0 0 0 0 0 0 0 0 0 0 0 0 0 0 0 0 0 0 0 0 0 0 0 0 0 0 0 0 0 0 0 0 0 0 0 0\n",
            " 0 0 0 0 0 0 0 0 0 0 0 0 0 0 0 0 0 0 0 0 0 0 0 0 0 0 0 0 0 0 0 0 0 0 0 0 0\n",
            " 0 0 0 0 0 0 0 0 0 0 0 0 0 0 0 0 0 0 0 0 0 0 1 1 1 1 1 1 1 1 1 1 1 1 1 1 1\n",
            " 1 1 1 1 1 1 1 1 1 1 1 1 1 1 1 1 1 1 1 1 1 1 1 1 1 1 1 1 1 1 1 1 1 1 1 1 1\n",
            " 1 1 1 1 1 1 1 1 1 1 1 1 1 1 1 1 1 1 1 1 1 1 1 1 1 1 1 1 1 1 1 1 1 1 1 1 1\n",
            " 1 1 1 1 1 1 1 1 1 1 1 1 1 1 1 1 1 1 1 1 1 1 1 1 1 1 1 1 1 1 1 1 1 1 1 1 1\n",
            " 1 1 1 1 1 1 1]\n",
            "7\n",
            "(266, 409)\n",
            "(266,)\n",
            "(46, 409)\n",
            "(46,)\n",
            "(134, 409)\n",
            "(134,)\n",
            "(312, 409)\n",
            "(312,)\n"
          ]
        }
      ]
    },
    {
      "cell_type": "code",
      "source": [
        "\n",
        "num_set = len(X_train_sets)\n",
        "\n",
        "for i in range(num_set):\n",
        "  # C and gamma test range\n",
        "  param_range = np.array([0.01, 0.1, 1, 10, 100, 1000])\n",
        "  # Optimizing C and gamma parameters to achieve the best f1 score\n",
        "  C, gamma = hyperparameters_opt_RBF(X_train_sets[i], Y_train_sets[i], X_test_sets[i], Y_test_sets[i], param_range, param_range)\n",
        "\n",
        "  print(\"Hyperparameters optimization results:\")\n",
        "  print(\"C: {}\".format(C))\n",
        "  print(\"gamma: {}\".format(gamma))\n",
        "  print(\"\\n\")\n"
      ],
      "metadata": {
        "colab": {
          "base_uri": "https://localhost:8080/"
        },
        "id": "esRufL3xPUVV",
        "outputId": "3721c3f1-721b-4f41-aa37-85acae487c0b"
      },
      "execution_count": 6,
      "outputs": [
        {
          "output_type": "stream",
          "name": "stdout",
          "text": [
            "Hyperparameters optimization results:\n",
            "C: 0.01\n",
            "gamma: 0.01\n",
            "\n",
            "\n",
            "Hyperparameters optimization results:\n",
            "C: 0.01\n",
            "gamma: 0.01\n",
            "\n",
            "\n",
            "Hyperparameters optimization results:\n",
            "C: 0.01\n",
            "gamma: 0.01\n",
            "\n",
            "\n",
            "Hyperparameters optimization results:\n",
            "C: 0.01\n",
            "gamma: 0.01\n",
            "\n",
            "\n",
            "Hyperparameters optimization results:\n",
            "C: 0.01\n",
            "gamma: 0.01\n",
            "\n",
            "\n",
            "Hyperparameters optimization results:\n",
            "C: 0.01\n",
            "gamma: 0.01\n",
            "\n",
            "\n",
            "Hyperparameters optimization results:\n",
            "C: 0.01\n",
            "gamma: 0.01\n",
            "\n",
            "\n"
          ]
        }
      ]
    },
    {
      "cell_type": "code",
      "source": [
        "C = 0.01\n",
        "gamma = 0.01\n",
        "label_names = ['male','female']\n",
        "clf_r_l = svm.SVC(kernel='poly', C=C, gamma=gamma, degree=3)\n",
        "for i in range(num_set):\n",
        "  # Training the model with the optimized hyperparameters\n",
        "  clf_r_l.fit(X_train_sets[i], Y_train_sets[i])\n",
        "  y_pred_tr = clf_r_l.predict(X_train_sets[i])\n",
        "  y_pred_te = clf_r_l.predict(X_test_sets[i])\n",
        "\n",
        "  print('Training set report')\n",
        "  print(classification_report(Y_train_sets[i], y_pred_tr, target_names=label_names))\n",
        "  print('Test set report')\n",
        "  print(classification_report(Y_test_sets[i], y_pred_te, target_names=label_names))\n",
        "\n",
        "clf_r_l.fit(X_train, Y_train)\n",
        "y_pred_cov = clf_r_l.predict(X_validation_set)\n",
        "print('Validation set report')\n",
        "print(classification_report(Y_validation_set, y_pred_cov, target_names=label_names))"
      ],
      "metadata": {
        "colab": {
          "base_uri": "https://localhost:8080/"
        },
        "id": "XhSSbbGiVeIH",
        "outputId": "abf0e5e8-f4f3-4e3d-9002-f67d3c095b48"
      },
      "execution_count": 7,
      "outputs": [
        {
          "output_type": "stream",
          "name": "stdout",
          "text": [
            "Training set report\n",
            "              precision    recall  f1-score   support\n",
            "\n",
            "        male       1.00      1.00      1.00       133\n",
            "      female       1.00      1.00      1.00       133\n",
            "\n",
            "    accuracy                           1.00       266\n",
            "   macro avg       1.00      1.00      1.00       266\n",
            "weighted avg       1.00      1.00      1.00       266\n",
            "\n",
            "Test set report\n",
            "              precision    recall  f1-score   support\n",
            "\n",
            "        male       0.56      0.61      0.58        23\n",
            "      female       0.57      0.52      0.55        23\n",
            "\n",
            "    accuracy                           0.57        46\n",
            "   macro avg       0.57      0.57      0.56        46\n",
            "weighted avg       0.57      0.57      0.56        46\n",
            "\n",
            "Training set report\n",
            "              precision    recall  f1-score   support\n",
            "\n",
            "        male       1.00      1.00      1.00       133\n",
            "      female       1.00      1.00      1.00       133\n",
            "\n",
            "    accuracy                           1.00       266\n",
            "   macro avg       1.00      1.00      1.00       266\n",
            "weighted avg       1.00      1.00      1.00       266\n",
            "\n",
            "Test set report\n",
            "              precision    recall  f1-score   support\n",
            "\n",
            "        male       0.56      0.61      0.58        23\n",
            "      female       0.57      0.52      0.55        23\n",
            "\n",
            "    accuracy                           0.57        46\n",
            "   macro avg       0.57      0.57      0.56        46\n",
            "weighted avg       0.57      0.57      0.56        46\n",
            "\n",
            "Training set report\n",
            "              precision    recall  f1-score   support\n",
            "\n",
            "        male       1.00      1.00      1.00       134\n",
            "      female       1.00      1.00      1.00       134\n",
            "\n",
            "    accuracy                           1.00       268\n",
            "   macro avg       1.00      1.00      1.00       268\n",
            "weighted avg       1.00      1.00      1.00       268\n",
            "\n",
            "Test set report\n",
            "              precision    recall  f1-score   support\n",
            "\n",
            "        male       0.57      0.55      0.56        22\n",
            "      female       0.57      0.59      0.58        22\n",
            "\n",
            "    accuracy                           0.57        44\n",
            "   macro avg       0.57      0.57      0.57        44\n",
            "weighted avg       0.57      0.57      0.57        44\n",
            "\n",
            "Training set report\n",
            "              precision    recall  f1-score   support\n",
            "\n",
            "        male       1.00      1.00      1.00       134\n",
            "      female       1.00      1.00      1.00       134\n",
            "\n",
            "    accuracy                           1.00       268\n",
            "   macro avg       1.00      1.00      1.00       268\n",
            "weighted avg       1.00      1.00      1.00       268\n",
            "\n",
            "Test set report\n",
            "              precision    recall  f1-score   support\n",
            "\n",
            "        male       0.62      0.68      0.65        22\n",
            "      female       0.65      0.59      0.62        22\n",
            "\n",
            "    accuracy                           0.64        44\n",
            "   macro avg       0.64      0.64      0.64        44\n",
            "weighted avg       0.64      0.64      0.64        44\n",
            "\n",
            "Training set report\n",
            "              precision    recall  f1-score   support\n",
            "\n",
            "        male       1.00      1.00      1.00       134\n",
            "      female       1.00      1.00      1.00       134\n",
            "\n",
            "    accuracy                           1.00       268\n",
            "   macro avg       1.00      1.00      1.00       268\n",
            "weighted avg       1.00      1.00      1.00       268\n",
            "\n",
            "Test set report\n",
            "              precision    recall  f1-score   support\n",
            "\n",
            "        male       0.54      0.59      0.57        22\n",
            "      female       0.55      0.50      0.52        22\n",
            "\n",
            "    accuracy                           0.55        44\n",
            "   macro avg       0.55      0.55      0.54        44\n",
            "weighted avg       0.55      0.55      0.54        44\n",
            "\n",
            "Training set report\n",
            "              precision    recall  f1-score   support\n",
            "\n",
            "        male       1.00      1.00      1.00       134\n",
            "      female       1.00      1.00      1.00       134\n",
            "\n",
            "    accuracy                           1.00       268\n",
            "   macro avg       1.00      1.00      1.00       268\n",
            "weighted avg       1.00      1.00      1.00       268\n",
            "\n",
            "Test set report\n",
            "              precision    recall  f1-score   support\n",
            "\n",
            "        male       0.58      0.68      0.62        22\n",
            "      female       0.61      0.50      0.55        22\n",
            "\n",
            "    accuracy                           0.59        44\n",
            "   macro avg       0.59      0.59      0.59        44\n",
            "weighted avg       0.59      0.59      0.59        44\n",
            "\n",
            "Training set report\n",
            "              precision    recall  f1-score   support\n",
            "\n",
            "        male       1.00      1.00      1.00       134\n",
            "      female       1.00      1.00      1.00       134\n",
            "\n",
            "    accuracy                           1.00       268\n",
            "   macro avg       1.00      1.00      1.00       268\n",
            "weighted avg       1.00      1.00      1.00       268\n",
            "\n",
            "Test set report\n",
            "              precision    recall  f1-score   support\n",
            "\n",
            "        male       0.55      0.50      0.52        22\n",
            "      female       0.54      0.59      0.57        22\n",
            "\n",
            "    accuracy                           0.55        44\n",
            "   macro avg       0.55      0.55      0.54        44\n",
            "weighted avg       0.55      0.55      0.54        44\n",
            "\n",
            "Validation set report\n",
            "              precision    recall  f1-score   support\n",
            "\n",
            "        male       0.57      0.54      0.55        67\n",
            "      female       0.56      0.60      0.58        67\n",
            "\n",
            "    accuracy                           0.57       134\n",
            "   macro avg       0.57      0.57      0.57       134\n",
            "weighted avg       0.57      0.57      0.57       134\n",
            "\n"
          ]
        }
      ]
    }
  ]
}