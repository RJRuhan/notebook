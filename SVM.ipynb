{
  "nbformat": 4,
  "nbformat_minor": 0,
  "metadata": {
    "colab": {
      "provenance": [],
      "mount_file_id": "1O1ixkVAuwaUG9Eh9sQhovtugFhnh3sb4",
      "authorship_tag": "ABX9TyOEpM+uXkBG0zzEvtWiApEH",
      "include_colab_link": true
    },
    "kernelspec": {
      "name": "python3",
      "display_name": "Python 3"
    },
    "language_info": {
      "name": "python"
    }
  },
  "cells": [
    {
      "cell_type": "markdown",
      "metadata": {
        "id": "view-in-github",
        "colab_type": "text"
      },
      "source": [
        "<a href=\"https://colab.research.google.com/github/RJRuhan/notebook/blob/main/SVM.ipynb\" target=\"_parent\"><img src=\"https://colab.research.google.com/assets/colab-badge.svg\" alt=\"Open In Colab\"/></a>"
      ]
    },
    {
      "cell_type": "code",
      "source": [
        "%cd /content/drive/MyDrive/Thesis/codes\n",
        "%ls"
      ],
      "metadata": {
        "colab": {
          "base_uri": "https://localhost:8080/"
        },
        "id": "K8HGpvIFM9cr",
        "outputId": "c50160df-0de9-4df3-b4b0-59ea62caa52b"
      },
      "execution_count": 1,
      "outputs": [
        {
          "output_type": "stream",
          "name": "stdout",
          "text": [
            "/content/drive/MyDrive/Thesis/codes\n",
            "extract_feature.py  IO_helpers.py      plot.py        \u001b[0m\u001b[01;34m__pycache__\u001b[0m/  verisense_step_count.py\n",
            "features.csv        \u001b[01;34mmodified_dataset\u001b[0m/  preprocess.py  trainData.py\n"
          ]
        }
      ]
    },
    {
      "cell_type": "code",
      "source": [
        "import os\n",
        "import numpy as np\n",
        "import tensorflow as tf\n",
        "from sklearn.metrics import confusion_matrix, classification_report, f1_score, precision_recall_fscore_support\n",
        "from sklearn import preprocessing\n",
        "from sklearn import svm\n",
        "import matplotlib.pylab as plt\n",
        "from plot import *\n",
        "from extract_feature import *\n",
        "from trainData import *\n",
        "\n",
        "%matplotlib"
      ],
      "metadata": {
        "colab": {
          "base_uri": "https://localhost:8080/"
        },
        "id": "j4baswpmLbGH",
        "outputId": "0a1ff99c-c1cd-4ec3-c896-c785e4fb7df3"
      },
      "execution_count": 11,
      "outputs": [
        {
          "output_type": "stream",
          "name": "stdout",
          "text": [
            "Using matplotlib backend: agg\n"
          ]
        }
      ]
    },
    {
      "cell_type": "code",
      "source": [
        "X_train_sets, Y_train_sets, X_test_sets, Y_test_sets, X_validation_set, Y_validation_set, X_train, Y_train = load_dataset_feature_gender('features.csv', n_folds=7)\n",
        "print(len(X_train_sets))\n",
        "print(X_train_sets[0].shape)\n",
        "print(Y_train_sets[0].shape)\n",
        "print(X_test_sets[0].shape)\n",
        "print(Y_test_sets[0].shape)\n",
        "print(X_validation_set.shape)\n",
        "print(Y_validation_set.shape)\n",
        "print(X_train.shape)\n",
        "print(Y_train.shape)"
      ],
      "metadata": {
        "colab": {
          "base_uri": "https://localhost:8080/"
        },
        "id": "9Uq_r9ZBL9Rx",
        "outputId": "9af450f4-ac18-4758-85b3-a6aa82cde627"
      },
      "execution_count": 4,
      "outputs": [
        {
          "output_type": "stream",
          "name": "stdout",
          "text": [
            "7\n",
            "(266, 409)\n",
            "(266,)\n",
            "(46, 409)\n",
            "(46,)\n",
            "(134, 409)\n",
            "(134,)\n",
            "(312, 409)\n",
            "(312,)\n"
          ]
        }
      ]
    },
    {
      "cell_type": "code",
      "source": [
        "scaler = preprocessing.StandardScaler().fit(X_train)\n",
        "X_train = scaler.transform(X_train)\n",
        "X_validation_set = scaler.transform(X_validation_set)\n",
        "\n",
        "num_set = len(X_train_sets)\n",
        "\n",
        "for i in range(num_set):\n",
        "  X_train_sets[i] = scaler.transform(X_train_sets[i])\n",
        "  X_test_sets[i] = scaler.transform(X_test_sets[i])\n",
        "\n",
        "\n",
        "\n"
      ],
      "metadata": {
        "id": "tq31NGnRVooB"
      },
      "execution_count": 5,
      "outputs": []
    },
    {
      "cell_type": "code",
      "source": [
        "def kernel_opt():\n",
        "    label_names = ['male','female']\n",
        "    kernels = [ 'linear', 'poly', 'rbf', 'sigmoid' ]\n",
        "    num_set = len(X_train_sets)\n",
        "\n",
        "    for kern in kernels:\n",
        "\n",
        "      precisions = []\n",
        "      recalls = []\n",
        "      f1_scores = []\n",
        "\n",
        "      print('Kernel: ', kern)\n",
        "\n",
        "      for i in range(num_set):\n",
        "\n",
        "        clf_r_l = svm.SVC(kernel=kern)\n",
        "        clf_r_l.fit(X_train_sets[i], Y_train_sets[i])\n",
        "        y_pred_te = clf_r_l.predict(X_test_sets[i])\n",
        "\n",
        "        # print('Training set report')\n",
        "        # print(classification_report(Y_train_sets[i], y_pred_tr, target_names=label_names))\n",
        "        # print('Test set report')\n",
        "        # print(classification_report(Y_test_sets[i], y_pred_te, target_names=label_names))\n",
        "\n",
        "        precision, recall, f1_score, _ = precision_recall_fscore_support(Y_test_sets[i], y_pred_te, average='macro')\n",
        "\n",
        "        precisions.append(precision)\n",
        "        recalls.append(recall)\n",
        "        f1_scores.append(f1_score)\n",
        "\n",
        "      print('Kernel: ', kern)\n",
        "      print('Average precision: ', np.mean(precisions))\n",
        "      print('Average recall: ', np.mean(recalls))\n",
        "      print('Average f1 score: ', np.mean(f1_scores))\n",
        "\n",
        "kernel_opt()\n"
      ],
      "metadata": {
        "colab": {
          "base_uri": "https://localhost:8080/"
        },
        "id": "3wkvwaY4Zmrr",
        "outputId": "3240d2e0-325f-4e79-95b3-55724f48a68f"
      },
      "execution_count": 14,
      "outputs": [
        {
          "output_type": "stream",
          "name": "stdout",
          "text": [
            "Kernel:  linear\n",
            "Kernel:  linear\n",
            "Average precision:  0.6731810922456175\n",
            "Average recall:  0.6701016374929419\n",
            "Average f1 score:  0.668665804277336\n",
            "Kernel:  poly\n",
            "Kernel:  poly\n",
            "Average precision:  0.677563045609012\n",
            "Average recall:  0.6177300959909655\n",
            "Average f1 score:  0.5810000898586912\n",
            "Kernel:  rbf\n",
            "Kernel:  rbf\n",
            "Average precision:  0.7507227461908783\n",
            "Average recall:  0.7394127611518916\n",
            "Average f1 score:  0.7375424266267858\n",
            "Kernel:  sigmoid\n",
            "Kernel:  sigmoid\n",
            "Average precision:  0.7601074294683318\n",
            "Average recall:  0.7526821005081875\n",
            "Average f1 score:  0.7507910529187125\n"
          ]
        }
      ]
    },
    {
      "cell_type": "code",
      "source": [
        "def coeff_opt(param_range_C,kern):\n",
        "    num_set = len(X_train_sets)\n",
        "    print(\"\\nkernel : \", kern)\n",
        "    for i,C in enumerate(param_range_C):\n",
        "      precisions = []\n",
        "      recalls = []\n",
        "      f1_scores = []\n",
        "\n",
        "      for i in range(num_set):\n",
        "          clf_r_l = svm.SVC(kernel=kern, C=C)\n",
        "          clf_r_l.fit(X_train_sets[i], Y_train_sets[i])\n",
        "          y_pred_te = clf_r_l.predict(X_test_sets[i])\n",
        "\n",
        "          precision, recall, f1_score, _ = precision_recall_fscore_support(Y_test_sets[i], y_pred_te, average='macro')\n",
        "\n",
        "          precisions.append(precision)\n",
        "          recalls.append(recall)\n",
        "          f1_scores.append(f1_score)\n",
        "\n",
        "      print('\\nCoeff: ', C)\n",
        "      print('Average precision: ', np.mean(precisions))\n",
        "      print('Average recall: ', np.mean(recalls))\n",
        "      print('Average f1 score: ', np.mean(f1_scores))\n",
        "\n",
        "    return\n",
        "\n",
        "param_range = np.array([0.01, 0.1, 1, 10, 100, 1000])\n",
        "coeff_opt(param_range,'rbf')\n",
        "coeff_opt(param_range,'sigmoid')\n",
        ""
      ],
      "metadata": {
        "colab": {
          "base_uri": "https://localhost:8080/"
        },
        "id": "AEkok0ykfe07",
        "outputId": "d5d6d7fd-1a71-4243-f0b3-bfc44fc2dee1"
      },
      "execution_count": 18,
      "outputs": [
        {
          "output_type": "stream",
          "name": "stdout",
          "text": [
            "\n",
            "kernel :  rbf\n",
            "\n",
            "Coeff:  0.01\n",
            "Average precision:  0.7067281862552937\n",
            "Average recall:  0.682523997741389\n",
            "Average f1 score:  0.674167446230171\n",
            "\n",
            "Coeff:  0.1\n",
            "Average precision:  0.7067281862552937\n",
            "Average recall:  0.682523997741389\n",
            "Average f1 score:  0.674167446230171\n",
            "\n",
            "Coeff:  1.0\n",
            "Average precision:  0.7507227461908783\n",
            "Average recall:  0.7394127611518916\n",
            "Average f1 score:  0.7375424266267858\n",
            "\n",
            "Coeff:  10.0\n",
            "Average precision:  0.7476148463337904\n",
            "Average recall:  0.7367306606437042\n",
            "Average f1 score:  0.7347793631919554\n",
            "\n",
            "Coeff:  100.0\n",
            "Average precision:  0.7476148463337904\n",
            "Average recall:  0.7367306606437042\n",
            "Average f1 score:  0.7347793631919554\n",
            "\n",
            "Coeff:  1000.0\n",
            "Average precision:  0.7476148463337904\n",
            "Average recall:  0.7367306606437042\n",
            "Average f1 score:  0.7347793631919554\n",
            "\n",
            "kernel :  sigmoid\n",
            "\n",
            "Coeff:  0.01\n",
            "Average precision:  0.6872829179518697\n",
            "Average recall:  0.6722190852625636\n",
            "Average f1 score:  0.6683274393072958\n",
            "\n",
            "Coeff:  0.1\n",
            "Average precision:  0.7259855566593879\n",
            "Average recall:  0.7140033879164314\n",
            "Average f1 score:  0.7118855525648105\n",
            "\n",
            "Coeff:  1.0\n",
            "Average precision:  0.7601074294683318\n",
            "Average recall:  0.7526821005081875\n",
            "Average f1 score:  0.7507910529187125\n",
            "\n",
            "Coeff:  10.0\n",
            "Average precision:  0.6911852268264042\n",
            "Average recall:  0.6826651609260305\n",
            "Average f1 score:  0.6799839375794565\n",
            "\n",
            "Coeff:  100.0\n",
            "Average precision:  0.6563359712963148\n",
            "Average recall:  0.6475155279503105\n",
            "Average f1 score:  0.6431353662032266\n",
            "\n",
            "Coeff:  1000.0\n",
            "Average precision:  0.6625662420607469\n",
            "Average recall:  0.6538678712591757\n",
            "Average f1 score:  0.649669919149755\n"
          ]
        }
      ]
    },
    {
      "cell_type": "code",
      "source": [
        "def gamma_opt(param_range_gamma,kern):\n",
        "    num_set = len(X_train_sets)\n",
        "    print(\"\\nkernel : \", kern)\n",
        "    for i,G in enumerate(param_range_gamma):\n",
        "      precisions = []\n",
        "      recalls = []\n",
        "      f1_scores = []\n",
        "\n",
        "      for i in range(num_set):\n",
        "          clf_r_l = svm.SVC(kernel=kern, gamma=G, C=1)\n",
        "          clf_r_l.fit(X_train_sets[i], Y_train_sets[i])\n",
        "          y_pred_te = clf_r_l.predict(X_test_sets[i])\n",
        "\n",
        "          precision, recall, f1_score, _ = precision_recall_fscore_support(Y_test_sets[i], y_pred_te, average='macro')\n",
        "\n",
        "          precisions.append(precision)\n",
        "          recalls.append(recall)\n",
        "          f1_scores.append(f1_score)\n",
        "\n",
        "      print('\\nGamma : ', G)\n",
        "      print('\\nAverage precision: ', np.mean(precisions))\n",
        "      print('Average recall: ', np.mean(recalls))\n",
        "      print('Average f1 score: ', np.mean(f1_scores))\n",
        "\n",
        "    return\n",
        "\n",
        "param_range = np.array(['scale','auto'])\n",
        "gamma_opt(param_range,'rbf')\n",
        "gamma_opt(param_range,'sigmoid')\n"
      ],
      "metadata": {
        "colab": {
          "base_uri": "https://localhost:8080/"
        },
        "id": "jTbgYMzlhsKA",
        "outputId": "f0128390-1b6a-4fef-d801-0b0f3910c839"
      },
      "execution_count": 22,
      "outputs": [
        {
          "output_type": "stream",
          "name": "stdout",
          "text": [
            "\n",
            "kernel :  rbf\n",
            "\n",
            "Gamma :  scale\n",
            "\n",
            "Average precision:  0.7507227461908783\n",
            "Average recall:  0.7394127611518916\n",
            "Average f1 score:  0.7375424266267858\n",
            "\n",
            "Gamma :  auto\n",
            "\n",
            "Average precision:  0.7507227461908783\n",
            "Average recall:  0.7394127611518916\n",
            "Average f1 score:  0.7375424266267858\n",
            "\n",
            "kernel :  sigmoid\n",
            "\n",
            "Gamma :  scale\n",
            "\n",
            "Average precision:  0.7601074294683318\n",
            "Average recall:  0.7526821005081875\n",
            "Average f1 score:  0.7507910529187125\n",
            "\n",
            "Gamma :  auto\n",
            "\n",
            "Average precision:  0.7608049745104337\n",
            "Average recall:  0.7528232636928289\n",
            "Average f1 score:  0.7507857276640975\n"
          ]
        }
      ]
    },
    {
      "cell_type": "code",
      "source": [
        "label_names = ['male','female']\n",
        "\n",
        "\n",
        "print('kernel : rbf\\n')\n",
        "\n",
        "machine = svm.SVC(kernel='rbf',C=1)\n",
        "machine.fit(X_train, Y_train)\n",
        "\n",
        "y_pred_cov = machine.predict(X_validation_set)\n",
        "print('\\nValidation set report')\n",
        "print(classification_report(Y_validation_set, y_pred_cov, target_names=label_names))\n",
        "\n",
        "print('kernel : sigmoid\\n')\n",
        "machine = svm.SVC(kernel='sigmoid',C=1)\n",
        "machine.fit(X_train, Y_train)\n",
        "\n",
        "y_pred_cov = machine.predict(X_validation_set)\n",
        "print('\\nValidation set report')\n",
        "print(classification_report(Y_validation_set, y_pred_cov, target_names=label_names))\n",
        "\n",
        "print('kernel : linear\\n')\n",
        "machine = svm.SVC(kernel='linear',C=1)\n",
        "machine.fit(X_train, Y_train)\n",
        "\n",
        "y_pred_cov = machine.predict(X_validation_set)\n",
        "print('\\nValidation set report')\n",
        "print(classification_report(Y_validation_set, y_pred_cov, target_names=label_names))\n",
        "\n",
        "\n",
        "print('kernel : poly\\n')\n",
        "machine = svm.SVC(kernel='poly',C=1)\n",
        "machine.fit(X_train, Y_train)\n",
        "\n",
        "y_pred_cov = machine.predict(X_validation_set)\n",
        "print('\\nValidation set report')\n",
        "print(classification_report(Y_validation_set, y_pred_cov, target_names=label_names))\n"
      ],
      "metadata": {
        "colab": {
          "base_uri": "https://localhost:8080/"
        },
        "id": "XhSSbbGiVeIH",
        "outputId": "cc8ff380-d2cb-480c-ac38-404f8df4616c"
      },
      "execution_count": 27,
      "outputs": [
        {
          "output_type": "stream",
          "name": "stdout",
          "text": [
            "kernel : rbf\n",
            "\n",
            "\n",
            "Validation set report\n",
            "              precision    recall  f1-score   support\n",
            "\n",
            "        male       0.69      0.66      0.67        67\n",
            "      female       0.67      0.70      0.69        67\n",
            "\n",
            "    accuracy                           0.68       134\n",
            "   macro avg       0.68      0.68      0.68       134\n",
            "weighted avg       0.68      0.68      0.68       134\n",
            "\n",
            "kernel : sigmoid\n",
            "\n",
            "\n",
            "Validation set report\n",
            "              precision    recall  f1-score   support\n",
            "\n",
            "        male       0.70      0.55      0.62        67\n",
            "      female       0.63      0.76      0.69        67\n",
            "\n",
            "    accuracy                           0.66       134\n",
            "   macro avg       0.66      0.66      0.65       134\n",
            "weighted avg       0.66      0.66      0.65       134\n",
            "\n",
            "kernel : linear\n",
            "\n",
            "\n",
            "Validation set report\n",
            "              precision    recall  f1-score   support\n",
            "\n",
            "        male       0.68      0.67      0.68        67\n",
            "      female       0.68      0.69      0.68        67\n",
            "\n",
            "    accuracy                           0.68       134\n",
            "   macro avg       0.68      0.68      0.68       134\n",
            "weighted avg       0.68      0.68      0.68       134\n",
            "\n",
            "kernel : poly\n",
            "\n",
            "\n",
            "Validation set report\n",
            "              precision    recall  f1-score   support\n",
            "\n",
            "        male       0.77      0.34      0.47        67\n",
            "      female       0.58      0.90      0.70        67\n",
            "\n",
            "    accuracy                           0.62       134\n",
            "   macro avg       0.67      0.62      0.59       134\n",
            "weighted avg       0.67      0.62      0.59       134\n",
            "\n"
          ]
        }
      ]
    },
    {
      "cell_type": "code",
      "source": [
        "# def run_svm(machine):\n",
        "\n",
        "#     num_set = len(X_train_sets)\n",
        "\n",
        "#     precisions = []\n",
        "#     recalls = []\n",
        "#     f1_scores = []\n",
        "\n",
        "#     for i in range(num_set):\n",
        "\n",
        "#       machine.fit(X_train_sets[i], Y_train_sets[i])\n",
        "#       y_pred_te = machine.predict(X_test_sets[i])\n",
        "\n",
        "#       precision, recall, f1_score, _ = precision_recall_fscore_support(Y_test_sets[i], y_pred_te, average='macro')\n",
        "\n",
        "#       precisions.append(precision)\n",
        "#       recalls.append(recall)\n",
        "#       f1_scores.append(f1_score)\n",
        "\n",
        "#       print('\\nAverage precision: ', np.mean(precisions))\n",
        "#       print('Average recall: ', np.mean(recalls))\n",
        "#       print('Average f1 score: ', np.mean(f1_scores))\n",
        "\n",
        "#     label_names = ['male','female']\n",
        "#     y_pred_cov = machine.predict(X_validation_set)\n",
        "#     print('\\nValidation set report')\n",
        "#     print(classification_report(Y_validation_set, y_pred_cov, target_names=label_names))\n",
        "\n",
        "# print('kernel : rbf\\n')\n",
        "# machine = svm.SVC(kernel='rbf',C=1)\n",
        "# run_svm(machine)\n",
        "\n",
        "# print('kernel : sigmoid\\n')\n",
        "# machine = svm.SVC(kernel='sigmoid',C=1)\n",
        "# run_svm(machine)\n"
      ],
      "metadata": {
        "id": "esRufL3xPUVV"
      },
      "execution_count": null,
      "outputs": []
    },
    {
      "cell_type": "code",
      "execution_count": 23,
      "metadata": {
        "id": "agL2ZQhpgQ-p"
      },
      "outputs": [],
      "source": [
        "# def hyperparameters_opt(X_train, y_train, X_test, y_test,\n",
        "#                             param_range_C, param_range_gamma,kern):\n",
        "#     accuracy_matrix = np.zeros((param_range_C.shape[0],param_range_gamma.shape[0]))\n",
        "#     for i,C in enumerate(param_range_C):\n",
        "#         for j,gamma in enumerate(param_range_gamma):\n",
        "#             clf_r_l = svm.SVC(kernel=kern, C=C, gamma=gamma)\n",
        "#             clf_r_l.fit(X_train, y_train)\n",
        "#             y_pred_tr = clf_r_l.predict(X_train_sets[i])\n",
        "#             y_pred_te = clf_r_l.predict(X_test_sets[i])\n",
        "\n",
        "#             accuracy_matrix[i,j] = f1_score(y_test ,y_pred_te, average='macro')\n",
        "\n",
        "#     C_ind, gamma_ind = np.unravel_index(np.argmax(accuracy_matrix), accuracy_matrix.shape)\n",
        "#     # print(accuracy_matrix)\n",
        "\n",
        "#     return param_range_C[C_ind], param_range_gamma[gamma_ind]\n",
        "\n",
        "\n",
        "# num_set = len(X_train_sets)\n",
        "\n",
        "# for i in range(num_set):\n",
        "#   # C and gamma test range\n",
        "#   param_range = np.array([0.01, 0.1, 1, 10, 100, 1000])\n",
        "#   # Optimizing C and gamma parameters to achieve the best f1 score\n",
        "#   C, gamma = hyperparameters_opt(X_train_sets[i], Y_train_sets[i], X_test_sets[i], Y_test_sets[i], param_range, param_range, kernel)\n",
        "\n",
        "#   print(\"Hyperparameters optimization results:\")\n",
        "#   print(\"C: {}\".format(C))\n",
        "#   print(\"gamma: {}\".format(gamma))\n",
        "#   print(\"\\n\")\n",
        "\n",
        "\n"
      ]
    }
  ]
}